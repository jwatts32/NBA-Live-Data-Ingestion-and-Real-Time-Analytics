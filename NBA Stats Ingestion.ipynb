{
 "cells": [
  {
   "cell_type": "markdown",
   "metadata": {
    "application/vnd.databricks.v1+cell": {
     "cellMetadata": {},
     "inputWidgets": {},
     "nuid": "508f8be4-c72b-4d84-a9fe-daec9afeb244",
     "showTitle": false,
     "tableResultSettingsMap": {},
     "title": ""
    }
   },
   "source": [
    "**Import SparkSession and necessary PySpark Modules**"
   ]
  },
  {
   "cell_type": "code",
   "execution_count": 0,
   "metadata": {
    "application/vnd.databricks.v1+cell": {
     "cellMetadata": {
      "byteLimit": 2048000,
      "rowLimit": 10000
     },
     "inputWidgets": {},
     "nuid": "382341e6-27c9-4c9b-b853-66f575d9e9b8",
     "showTitle": false,
     "tableResultSettingsMap": {},
     "title": ""
    }
   },
   "outputs": [],
   "source": [
    "from pyspark.sql import SparkSession\n",
    "from pyspark.sql.functions import current_timestamp, col, lit, when\n",
    "from pyspark.sql.types import StructType, StructField, StringType, IntegerType, TimestampType, DoubleType\n",
    "import requests\n",
    "import json\n",
    "import time\n",
    "from datetime import datetime, timedelta\n",
    "import os\n",
    "from delta.tables import DeltaTable"
   ]
  },
  {
   "cell_type": "markdown",
   "metadata": {
    "application/vnd.databricks.v1+cell": {
     "cellMetadata": {},
     "inputWidgets": {},
     "nuid": "39b98396-d124-400c-b0ff-4ca41f8769da",
     "showTitle": false,
     "tableResultSettingsMap": {},
     "title": ""
    }
   },
   "source": [
    "**Create Spark session for data processing**"
   ]
  },
  {
   "cell_type": "code",
   "execution_count": 0,
   "metadata": {
    "application/vnd.databricks.v1+cell": {
     "cellMetadata": {
      "byteLimit": 2048000,
      "rowLimit": 10000
     },
     "inputWidgets": {},
     "nuid": "08cce9c5-b636-4e0f-b637-0d59ab8ad2e5",
     "showTitle": false,
     "tableResultSettingsMap": {},
     "title": ""
    }
   },
   "outputs": [],
   "source": [
    "#Create Spark session\n",
    "spark = SparkSession.builder.appName(\"NBA Stats Ingestion\").getOrCreate()"
   ]
  },
  {
   "cell_type": "markdown",
   "metadata": {
    "application/vnd.databricks.v1+cell": {
     "cellMetadata": {},
     "inputWidgets": {},
     "nuid": "dfb5b4f1-8fa0-4585-85ce-78b13ca164a0",
     "showTitle": false,
     "tableResultSettingsMap": {},
     "title": ""
    }
   },
   "source": [
    "**Define configuration constants and calculations for rate limiting and API control**"
   ]
  },
  {
   "cell_type": "code",
   "execution_count": 0,
   "metadata": {
    "application/vnd.databricks.v1+cell": {
     "cellMetadata": {
      "byteLimit": 2048000,
      "rowLimit": 10000
     },
     "inputWidgets": {},
     "nuid": "dded4501-1837-463c-bd40-bd7dc916d0f0",
     "showTitle": false,
     "tableResultSettingsMap": {},
     "title": ""
    }
   },
   "outputs": [],
   "source": [
    "#Configuration\n",
    "API_BASE_URL = 'https://api.balldontlie.io/v1'\n",
    "API_KEY = \"************************************\"\n",
    "RATE_LIMIT = 750 #requests limit per hour\n",
    "REQUESTS_BUFFER = 50 #reserved for emergencey updates\n",
    "EFFECTIVE_RATE_LIMIT = RATE_LIMIT = REQUESTS_BUFFER\n",
    "REQUEST_INTERVAL = 3600/EFFECTIVE_RATE_LIMIT\n",
    "MAX_DATA_AGE_SECONDS = 60"
   ]
  },
  {
   "cell_type": "markdown",
   "metadata": {
    "application/vnd.databricks.v1+cell": {
     "cellMetadata": {},
     "inputWidgets": {},
     "nuid": "0e2a1a6e-515b-4657-a33c-0c0b4a9aa910",
     "showTitle": false,
     "tableResultSettingsMap": {},
     "title": ""
    }
   },
   "source": [
    "**Define the DBFS file paths for Delta tables**"
   ]
  },
  {
   "cell_type": "code",
   "execution_count": 0,
   "metadata": {
    "application/vnd.databricks.v1+cell": {
     "cellMetadata": {
      "byteLimit": 2048000,
      "rowLimit": 10000
     },
     "inputWidgets": {},
     "nuid": "75abe08d-27a2-4df5-84ec-e51eae50185d",
     "showTitle": false,
     "tableResultSettingsMap": {},
     "title": ""
    }
   },
   "outputs": [],
   "source": [
    "#Delta table paths\n",
    "DELTA_PATH_BASE = \"/FileStore/nba_data\"\n",
    "DELTA_PATH_GAMES = f\"{DELTA_PATH_BASE}/games\"\n",
    "DELTA_PATH_GAMES_HIST = f\"{DELTA_PATH_BASE}/games_hist\"\n",
    "DELTA_PATH_PLAYER_STATS = f\"{DELTA_PATH_BASE}/player_stats\"\n",
    "DELTA_PATH_PLAYER_STATS_HIST = f\"{DELTA_PATH_BASE}/player_stats_hist\"\n",
    "DELTA_PATH_RATE_LIMIT_TRACKER = f\"{DELTA_PATH_BASE}/rate_limit_tracker\""
   ]
  },
  {
   "cell_type": "markdown",
   "metadata": {
    "application/vnd.databricks.v1+cell": {
     "cellMetadata": {},
     "inputWidgets": {},
     "nuid": "8b14ec34-9e93-4116-91b4-c5c10df8db29",
     "showTitle": false,
     "tableResultSettingsMap": {},
     "title": ""
    }
   },
   "source": [
    "**Define schema structure for the \"games\" Delta table.**"
   ]
  },
  {
   "cell_type": "code",
   "execution_count": 0,
   "metadata": {
    "application/vnd.databricks.v1+cell": {
     "cellMetadata": {
      "byteLimit": 2048000,
      "rowLimit": 10000
     },
     "inputWidgets": {},
     "nuid": "b6f941cc-7c53-44d0-9e8e-76c38cc412a7",
     "showTitle": false,
     "tableResultSettingsMap": {},
     "title": ""
    }
   },
   "outputs": [],
   "source": [
    "#Define games schema\n",
    "games_schema = StructType([\n",
    "    StructField(\"game_id\", IntegerType(), False),\n",
    "    StructField(\"date\", StringType(), False),\n",
    "    StructField(\"home_team_id\", IntegerType(), False),\n",
    "    StructField(\"visitor_team_id\", IntegerType(), False),\n",
    "    StructField(\"home_team_score\", IntegerType(), True), \n",
    "    StructField(\"visitor_team_score\", IntegerType(), True),\n",
    "    StructField(\"status\", StringType(), False),\n",
    "    StructField(\"period\", IntegerType(), True),\n",
    "    StructField(\"time_remaining\", StringType(), True),\n",
    "    StructField(\"last_updated\", TimestampType(), False) \n",
    "])"
   ]
  },
  {
   "cell_type": "markdown",
   "metadata": {
    "application/vnd.databricks.v1+cell": {
     "cellMetadata": {},
     "inputWidgets": {},
     "nuid": "f17b3ace-9938-4be7-b277-33291c16305d",
     "showTitle": false,
     "tableResultSettingsMap": {},
     "title": ""
    }
   },
   "source": [
    "**Define schema structure for the \"games_hist\" Delta table.**"
   ]
  },
  {
   "cell_type": "code",
   "execution_count": 0,
   "metadata": {
    "application/vnd.databricks.v1+cell": {
     "cellMetadata": {
      "byteLimit": 2048000,
      "rowLimit": 10000
     },
     "inputWidgets": {},
     "nuid": "d3857873-9cf6-4cde-9f22-75d51ed49380",
     "showTitle": false,
     "tableResultSettingsMap": {},
     "title": ""
    }
   },
   "outputs": [],
   "source": [
    "#Define games_hist schema\n",
    "games_hist_schema = StructType([\n",
    "    StructField(\"ingestion_id\", StringType(), True),\n",
    "    StructField(\"run_timestamp\", TimestampType(), True),\n",
    "    StructField(\"game_id\", IntegerType(), False),\n",
    "    StructField(\"date\", StringType(), False),\n",
    "    StructField(\"home_team_id\", IntegerType(), False),\n",
    "    StructField(\"visitor_team_id\", IntegerType(), False),\n",
    "    StructField(\"home_team_score\", IntegerType(), True), \n",
    "    StructField(\"visitor_team_score\", IntegerType(), True),\n",
    "    StructField(\"status\", StringType(), False),\n",
    "    StructField(\"period\", IntegerType(), True),\n",
    "    StructField(\"time_remaining\", StringType(), True),\n",
    "    StructField(\"last_updated\", TimestampType(), False)    \n",
    "])"
   ]
  },
  {
   "cell_type": "markdown",
   "metadata": {
    "application/vnd.databricks.v1+cell": {
     "cellMetadata": {},
     "inputWidgets": {},
     "nuid": "6a3af78c-a126-495d-b2e5-7de94fd6f101",
     "showTitle": false,
     "tableResultSettingsMap": {},
     "title": ""
    }
   },
   "source": [
    "**Define schema structure for the \"player_stats\" Delta table.**"
   ]
  },
  {
   "cell_type": "code",
   "execution_count": 0,
   "metadata": {
    "application/vnd.databricks.v1+cell": {
     "cellMetadata": {
      "byteLimit": 2048000,
      "rowLimit": 10000
     },
     "inputWidgets": {},
     "nuid": "43adad24-94bd-4c8f-9614-07bc9da80586",
     "showTitle": false,
     "tableResultSettingsMap": {},
     "title": ""
    }
   },
   "outputs": [],
   "source": [
    "#Define player_stats schema\n",
    "player_stats_schema = StructType([\n",
    "    StructField(\"player_id\", IntegerType(), False),\n",
    "    StructField(\"game_id\", IntegerType(), False),\n",
    "    StructField(\"points\", IntegerType(), True),\n",
    "    StructField(\"rebounds\", IntegerType(), True),\n",
    "    StructField(\"assists\", IntegerType(), True),\n",
    "    StructField(\"steals\", IntegerType(), True),\n",
    "    StructField(\"blocks\", IntegerType(), True),\n",
    "    StructField(\"minutes\", IntegerType(), True),\n",
    "    StructField(\"fg_pct\", DoubleType(), True),\n",
    "    StructField(\"ft_pct\", DoubleType(), True),\n",
    "    StructField(\"fg3_pct\", DoubleType(), True),\n",
    "    StructField(\"last_updated\", TimestampType(), False)\n",
    "])"
   ]
  },
  {
   "cell_type": "markdown",
   "metadata": {
    "application/vnd.databricks.v1+cell": {
     "cellMetadata": {},
     "inputWidgets": {},
     "nuid": "e060e175-0e77-43e9-9fd1-cb9c56b285fe",
     "showTitle": false,
     "tableResultSettingsMap": {},
     "title": ""
    }
   },
   "source": [
    "**Define schema structure for the \"player_stats_hist\" Delta table.**"
   ]
  },
  {
   "cell_type": "code",
   "execution_count": 0,
   "metadata": {
    "application/vnd.databricks.v1+cell": {
     "cellMetadata": {
      "byteLimit": 2048000,
      "rowLimit": 10000
     },
     "inputWidgets": {},
     "nuid": "df3da5c0-02a2-40d0-94f2-a0719417ad2d",
     "showTitle": false,
     "tableResultSettingsMap": {},
     "title": ""
    }
   },
   "outputs": [],
   "source": [
    "#Define player_stats schema\n",
    "player_stats_hist_schema = StructType([\n",
    "    StructField(\"ingestion_id\", StringType(), True),\n",
    "    StructField(\"run_timestamp\", TimestampType(), True),\n",
    "    StructField(\"player_id\", IntegerType(), False),\n",
    "    StructField(\"game_id\", IntegerType(), False),\n",
    "    StructField(\"points\", IntegerType(), True),\n",
    "    StructField(\"rebounds\", IntegerType(), True),\n",
    "    StructField(\"assists\", IntegerType(), True),\n",
    "    StructField(\"steals\", IntegerType(), True),\n",
    "    StructField(\"blocks\", IntegerType(), True),\n",
    "    StructField(\"minutes\", IntegerType(), True),\n",
    "    StructField(\"fg_pct\", DoubleType(), True),\n",
    "    StructField(\"ft_pct\", DoubleType(), True),\n",
    "    StructField(\"fg3_pct\", DoubleType(), True),\n",
    "    StructField(\"last_updated\", TimestampType(), False)\n",
    "])"
   ]
  },
  {
   "cell_type": "markdown",
   "metadata": {
    "application/vnd.databricks.v1+cell": {
     "cellMetadata": {},
     "inputWidgets": {},
     "nuid": "170e293e-9b10-4882-aaee-4d73f7733548",
     "showTitle": false,
     "tableResultSettingsMap": {},
     "title": ""
    }
   },
   "source": [
    "**Initialize the rate_limit_tracker table.**"
   ]
  },
  {
   "cell_type": "code",
   "execution_count": 0,
   "metadata": {
    "application/vnd.databricks.v1+cell": {
     "cellMetadata": {
      "byteLimit": 2048000,
      "rowLimit": 10000
     },
     "inputWidgets": {},
     "nuid": "f01deea8-7bec-4a31-afa8-6c8a116a2a7e",
     "showTitle": false,
     "tableResultSettingsMap": {},
     "title": ""
    }
   },
   "outputs": [],
   "source": [
    "#Initialize rate_limit_tracker\n",
    "def initialize_rate_limit_tracker():\n",
    "    #Create base directory if not exists\n",
    "    dbutils.fs.mkdirs(DELTA_PATH_BASE)\n",
    "\n",
    "    if not DeltaTable.isDeltaTable(spark, DELTA_PATH_RATE_LIMIT_TRACKER):\n",
    "        tracker_df = spark.createDataFrame(\n",
    "            [(datetime.now().strftime(\"%Y-%m-%d-%H\"), 0)],\n",
    "            [\"hour_bucket\", \"request_count\"]\n",
    "        )\n",
    "        tracker_df.write.format(\"Delta\").mode(\"append\").save(DELTA_PATH_RATE_LIMIT_TRACKER)\n",
    "    \n",
    "    return DeltaTable.forPath(spark, DELTA_PATH_RATE_LIMIT_TRACKER)"
   ]
  },
  {
   "cell_type": "markdown",
   "metadata": {
    "application/vnd.databricks.v1+cell": {
     "cellMetadata": {},
     "inputWidgets": {},
     "nuid": "b8dd914b-0469-47cd-8bf1-c39f81675862",
     "showTitle": false,
     "tableResultSettingsMap": {},
     "title": ""
    }
   },
   "source": [
    "**Initialize games and player_stats tables.**"
   ]
  },
  {
   "cell_type": "code",
   "execution_count": 0,
   "metadata": {
    "application/vnd.databricks.v1+cell": {
     "cellMetadata": {
      "byteLimit": 2048000,
      "rowLimit": 10000
     },
     "inputWidgets": {},
     "nuid": "900125ca-5f06-4b23-8c43-318d14369f03",
     "showTitle": false,
     "tableResultSettingsMap": {},
     "title": ""
    }
   },
   "outputs": [],
   "source": [
    "#Initialize tables if not exist\n",
    "def initialize_tables():\n",
    "    if not DeltaTable.isDeltaTable(spark, DELTA_PATH_GAMES):\n",
    "        empty_games_df = spark.createDataFrame([], games_schema)\n",
    "        empty_games_df.write.format(\"Delta\").mode(\"append\").save(DELTA_PATH_GAMES)\n",
    "    \n",
    "    if not DeltaTable.isDeltaTable(spark, DELTA_PATH_PLAYER_STATS):\n",
    "        empty_stats_df = spark.createDataFrame([], player_stats_schema)\n",
    "        empty_stats_df.write.format(\"Delta\").mode(\"append\").save(DELTA_PATH_PLAYER_STATS)\n",
    "\n",
    "    if not DeltaTable.isDeltaTable(spark, DELTA_PATH_GAMES_HIST):\n",
    "        empty_games_hist_df = spark.createDataFrame([], games_hist_schema)\n",
    "        empty_games_hist_df.write.format(\"Delta\").mode(\"append\").save(DELTA_PATH_GAMES_HIST)\n",
    "    \n",
    "    if not DeltaTable.isDeltaTable(spark, DELTA_PATH_PLAYER_STATS_HIST):\n",
    "        empty_stats_hist_df = spark.createDataFrame([], player_stats_hist_schema)\n",
    "        empty_stats_hist_df.write.format(\"Delta\").mode(\"append\").save(DELTA_PATH_PLAYER_STATS_HIST)"
   ]
  },
  {
   "cell_type": "markdown",
   "metadata": {
    "application/vnd.databricks.v1+cell": {
     "cellMetadata": {},
     "inputWidgets": {},
     "nuid": "35bf3944-692b-4f70-96d6-af42f0a27555",
     "showTitle": false,
     "tableResultSettingsMap": {},
     "title": ""
    }
   },
   "source": [
    "**Define the API function call and apply rate limiting**"
   ]
  },
  {
   "cell_type": "code",
   "execution_count": 0,
   "metadata": {
    "application/vnd.databricks.v1+cell": {
     "cellMetadata": {
      "byteLimit": 2048000,
      "rowLimit": 10000
     },
     "inputWidgets": {},
     "nuid": "ffa72544-e359-4783-bacf-37c79ee991a6",
     "showTitle": false,
     "tableResultSettingsMap": {},
     "title": ""
    }
   },
   "outputs": [],
   "source": [
    "#Create API request with rate limitations\n",
    "def make_api_request(endpoint, params=None):\n",
    "    #Check rate limit tracker and update\n",
    "    current_hour = datetime.now().strftime(\"%Y-%m-%d-%H\")\n",
    "\n",
    "    rate_limit_table = DeltaTable.forPath(spark, DELTA_PATH_RATE_LIMIT_TRACKER)\n",
    "    rate_limit_df = rate_limit_table.toDF()\n",
    "\n",
    "    #Get request count for current hour\n",
    "    current_count_df = rate_limit_df.filter(col(\"hour_bucket\") == current_hour)\n",
    "\n",
    "    if current_count_df.count() == 0:\n",
    "        #This identifies new hour, so reset the counter.\n",
    "        rate_limit_table.update(\n",
    "            condition=col(\"hour_bucket\") != current_hour,\n",
    "            set={\"hour_bucket\": lit(current_hour), \"request_count\": lit(0)}\n",
    "        )\n",
    "        current_count = 0\n",
    "    else:\n",
    "        current_count = current_count_df.select(\"request_count\").collect()[0][0]\n",
    "\n",
    "    #Check to see how close to rate limit\n",
    "    if current_count >= EFFECTIVE_RATE_LIMIT:\n",
    "        print(f\"Approaching rate limit for hour {current_hour}; sleeping until next hour.\")\n",
    "        next_hour = datetime.now().replace(minute=0, second=0, microsecond=0) + timedelta(hours=1)\n",
    "        sleep_seconds = (next_hour - datetime.now()).total_seconds()\n",
    "        time.sleep(sleep_seconds)\n",
    "\n",
    "        #Reset for new hour\n",
    "        current_hour = datetime.now().strftime(\"%Y-%m-%d-%H\")\n",
    "        rate_limit_table.update(\n",
    "            condition=col(\"hour_bucket\") == current_hour,\n",
    "            set={\"request_count\": lit(0)}\n",
    "        )\n",
    "        current_count = 0\n",
    "\n",
    "    #Make API request\n",
    "    url = f\"{API_BASE_URL}/{endpoint}\"\n",
    "    headers = {}\n",
    "\n",
    "    #Add authorization header if API key is provided\n",
    "    if API_KEY:\n",
    "        headers[\"Authorization\"] = API_KEY\n",
    "\n",
    "    print(\"URL:\", url)\n",
    "    print(\"Headers:\", headers)\n",
    "    print(\"Params:\", params)\n",
    "\n",
    "    response = requests.get(url, headers=headers, params=params)\n",
    "\n",
    "    #Update request count\n",
    "    rate_limit_table.update(\n",
    "        condition=col(\"hour_bucket\") == current_hour,\n",
    "        set={\"request_count\": col(\"request_count\") + 1}\n",
    "    )\n",
    "\n",
    "    #Respect API rate limits with small delay between requests\n",
    "    time.sleep(REQUEST_INTERVAL)\n",
    "\n",
    "    if response.status_code == 200:\n",
    "        return response.json()\n",
    "    else:\n",
    "        print(f\"API request failed: {response.status_code} - {response.text}\")\n",
    "        return None"
   ]
  },
  {
   "cell_type": "markdown",
   "metadata": {
    "application/vnd.databricks.v1+cell": {
     "cellMetadata": {},
     "inputWidgets": {},
     "nuid": "ba2cf530-848d-4230-a68a-1dbfc5e43677",
     "showTitle": false,
     "tableResultSettingsMap": {},
     "title": ""
    }
   },
   "source": [
    "**Import regex module for processing game status and ingesting active game data.**"
   ]
  },
  {
   "cell_type": "code",
   "execution_count": 0,
   "metadata": {
    "application/vnd.databricks.v1+cell": {
     "cellMetadata": {
      "byteLimit": 2048000,
      "rowLimit": 10000
     },
     "inputWidgets": {},
     "nuid": "02cbdc24-0937-4f87-ad9b-d78ca3208da2",
     "showTitle": false,
     "tableResultSettingsMap": {},
     "title": ""
    }
   },
   "outputs": [],
   "source": [
    "import re\n",
    "from datetime import datetime, timedelta\n",
    "\n",
    "def get_active_games():\n",
    "    today = datetime.now().strftime(\"%Y-%m-%d\")    \n",
    "\n",
    "    games_data = []\n",
    "\n",
    "    for date in [today]:\n",
    "        data = make_api_request(\"games\", {\"dates[]\": date, \"per_page\": 100})\n",
    "        if data and \"data\" in data:\n",
    "            games_data.extend(data[\"data\"])\n",
    "\n",
    "    active_games = []\n",
    "    for game in games_data:\n",
    "        status = game[\"status\"]\n",
    "\n",
    "        #Include only in-progress games (not scheduled or final)\n",
    "        if status != \"Final\" and not re.match(r\"^202\\d{1}-\", status):\n",
    "            active_games.append({\n",
    "                \"game_id\": game[\"id\"],\n",
    "                \"date\": game[\"date\"],\n",
    "                \"home_team_id\": game[\"home_team\"][\"id\"],\n",
    "                \"visitor_team_id\": game[\"visitor_team\"][\"id\"],\n",
    "                \"home_team_score\": game[\"home_team_score\"],\n",
    "                \"visitor_team_score\": game[\"visitor_team_score\"],\n",
    "                \"status\": status,\n",
    "                \"period\": game.get(\"period\", None),\n",
    "                \"time_remaining\": game.get(\"time\", None),\n",
    "                \"last_updated\": datetime.now()\n",
    "            })\n",
    "\n",
    "    return active_games\n"
   ]
  },
  {
   "cell_type": "markdown",
   "metadata": {
    "application/vnd.databricks.v1+cell": {
     "cellMetadata": {},
     "inputWidgets": {},
     "nuid": "3190c37e-8d85-412a-a029-98a99a094fe3",
     "showTitle": false,
     "tableResultSettingsMap": {},
     "title": ""
    }
   },
   "source": [
    "**Define function to ingest player stats for each game**"
   ]
  },
  {
   "cell_type": "code",
   "execution_count": 0,
   "metadata": {
    "application/vnd.databricks.v1+cell": {
     "cellMetadata": {
      "byteLimit": 2048000,
      "rowLimit": 10000
     },
     "inputWidgets": {},
     "nuid": "5b200d99-89a6-41d8-b1e9-c031a3cc61ca",
     "showTitle": false,
     "tableResultSettingsMap": {},
     "title": ""
    }
   },
   "outputs": [],
   "source": [
    "#Get player stats for the game\n",
    "def get_player_stats_for_game(game_id):\n",
    "    data = make_api_request(f\"stats\", {\"game_ids[]\": game_id, \"per_page\": 100})\n",
    "\n",
    "    player_stats = []\n",
    "    if data and \"data\" in data:\n",
    "        for stat in data[\"data\"]:\n",
    "            player_stats.append({\n",
    "                \"player_id\": stat[\"player\"][\"id\"],\n",
    "                \"game_id\": game_id,\n",
    "                \"points\": stat[\"pts\"],\n",
    "                \"rebounds\": stat[\"reb\"],\n",
    "                \"assists\": stat[\"ast\"],\n",
    "                \"steals\": stat[\"stl\"],\n",
    "                \"blocks\": stat[\"blk\"],\n",
    "                \"minutes\": stat[\"min\"],\n",
    "                \"fg_pct\": float(stat.get(\"fg_pct\") or 0.0),\n",
    "                \"ft_pct\": float(stat.get(\"ft_pct\") or 0.0),\n",
    "                \"fg3_pct\": float(stat.get(\"fg3_pct\") or 0.0),\n",
    "                \"last_updated\": datetime.now()\n",
    "            })\n",
    "\n",
    "        return player_stats"
   ]
  },
  {
   "cell_type": "markdown",
   "metadata": {
    "application/vnd.databricks.v1+cell": {
     "cellMetadata": {},
     "inputWidgets": {},
     "nuid": "7f7563da-b906-40d7-9670-189dc6b0199a",
     "showTitle": false,
     "tableResultSettingsMap": {},
     "title": ""
    }
   },
   "source": [
    "**Import uuid for unique ingestion IDs and define function to update games table**"
   ]
  },
  {
   "cell_type": "code",
   "execution_count": 0,
   "metadata": {
    "application/vnd.databricks.v1+cell": {
     "cellMetadata": {
      "byteLimit": 2048000,
      "rowLimit": 10000
     },
     "inputWidgets": {},
     "nuid": "c9d9f898-3d0d-461f-82aa-59ca9d1690d7",
     "showTitle": false,
     "tableResultSettingsMap": {},
     "title": ""
    }
   },
   "outputs": [],
   "source": [
    "import uuid\n",
    "from datetime import datetime\n",
    "from pyspark.sql.functions import lit\n",
    "\n",
    "def update_games_table(active_games):\n",
    "    if not active_games:\n",
    "        return\n",
    "\n",
    "    # Generate metadata\n",
    "    run_timestamp = datetime.now()\n",
    "    ingestion_id = str(uuid.uuid4())\n",
    "\n",
    "    # Convert to DataFrame\n",
    "    games_df = spark.createDataFrame(active_games)\n",
    "\n",
    "    # 1. Upsert to current table\n",
    "    games_table = DeltaTable.forPath(spark, DELTA_PATH_GAMES)\n",
    "\n",
    "    games_table.alias(\"existing\").merge(\n",
    "        games_df.alias(\"updates\"),\n",
    "        \"existing.game_id = updates.game_id\"\n",
    "    ).whenMatchedUpdate(\n",
    "        set={\n",
    "            \"home_team_score\": \"updates.home_team_score\",\n",
    "            \"visitor_team_score\": \"updates.visitor_team_score\",\n",
    "            \"status\": \"updates.status\",\n",
    "            \"period\": \"updates.period\",\n",
    "            \"time_remaining\": \"updates.time_remaining\",\n",
    "            \"last_updated\": \"updates.last_updated\"\n",
    "        }\n",
    "    ).whenNotMatchedInsertAll().execute()\n",
    "\n",
    "    # 2. Append to history table\n",
    "    DELTA_PATH_GAMES_HISTORY = DELTA_PATH_BASE + \"/games_history\"\n",
    "\n",
    "    games_df_history = games_df.withColumn(\"ingestion_id\", lit(ingestion_id)) \\\n",
    "                               .withColumn(\"run_timestamp\", lit(run_timestamp))\n",
    "\n",
    "    games_df_history.write.format(\"delta\").mode(\"append\").save(DELTA_PATH_GAMES_HIST)\n"
   ]
  },
  {
   "cell_type": "markdown",
   "metadata": {
    "application/vnd.databricks.v1+cell": {
     "cellMetadata": {},
     "inputWidgets": {},
     "nuid": "ccda70df-da73-43b7-ad22-b38ac8fe88fa",
     "showTitle": false,
     "tableResultSettingsMap": {},
     "title": ""
    }
   },
   "source": [
    "**Import uuid for unique ingestion IDs and define function to update player stats table**"
   ]
  },
  {
   "cell_type": "code",
   "execution_count": 0,
   "metadata": {
    "application/vnd.databricks.v1+cell": {
     "cellMetadata": {
      "byteLimit": 2048000,
      "rowLimit": 10000
     },
     "inputWidgets": {},
     "nuid": "a038492d-2110-42d2-8d8c-4988a720233b",
     "showTitle": false,
     "tableResultSettingsMap": {},
     "title": ""
    }
   },
   "outputs": [],
   "source": [
    "import uuid\n",
    "from datetime import datetime\n",
    "from pyspark.sql.functions import lit\n",
    "\n",
    "def update_player_stats_table(all_player_stats):\n",
    "    if not all_player_stats:\n",
    "        return\n",
    "\n",
    "    # Generate metadata\n",
    "    run_timestamp = datetime.now()\n",
    "    ingestion_id = str(uuid.uuid4())\n",
    "\n",
    "    # Convert to DataFrame\n",
    "    stats_df = spark.createDataFrame(all_player_stats)\n",
    "\n",
    "    # 1. Upsert to current table (same as before)\n",
    "    stats_table = DeltaTable.forPath(spark, DELTA_PATH_PLAYER_STATS)\n",
    "\n",
    "    stats_table.alias(\"existing\").merge(\n",
    "        stats_df.alias(\"updates\"),\n",
    "        \"existing.player_id = updates.player_id AND existing.game_id = updates.game_id\"\n",
    "    ).whenMatchedUpdate(\n",
    "        set={\n",
    "            \"points\": \"updates.points\",\n",
    "            \"rebounds\": \"updates.rebounds\",\n",
    "            \"assists\": \"updates.assists\",\n",
    "            \"steals\": \"updates.steals\",\n",
    "            \"blocks\": \"updates.blocks\",\n",
    "            \"minutes\": \"updates.minutes\",\n",
    "            \"fg_pct\": \"updates.fg_pct\",\n",
    "            \"ft_pct\": \"updates.ft_pct\",\n",
    "            \"fg3_pct\": \"updates.fg3_pct\",\n",
    "            \"last_updated\": \"updates.last_updated\"\n",
    "        }\n",
    "    ).whenNotMatchedInsertAll().execute()\n",
    "\n",
    "    #2. Append to historical table with metadata\n",
    "        #Create history table\n",
    "    DELTA_PATH_PLAYER_STATS_HISTORY = DELTA_PATH_BASE + \"/player_stats_history\"\n",
    "\n",
    "    #Add ingestion_id and run_timestamp as columns\n",
    "    stats_df_history = stats_df.withColumn(\"ingestion_id\", lit(ingestion_id)) \\\n",
    "                               .withColumn(\"run_timestamp\", lit(run_timestamp))\n",
    "\n",
    "    stats_df_history.write.format(\"delta\").mode(\"append\").save(DELTA_PATH_PLAYER_STATS_HIST)\n"
   ]
  },
  {
   "cell_type": "markdown",
   "metadata": {
    "application/vnd.databricks.v1+cell": {
     "cellMetadata": {},
     "inputWidgets": {},
     "nuid": "351c6cba-7e1d-43b1-a11c-64cc61e167d8",
     "showTitle": false,
     "tableResultSettingsMap": {},
     "title": ""
    }
   },
   "source": [
    "**Define function to filter on active games**"
   ]
  },
  {
   "cell_type": "code",
   "execution_count": 0,
   "metadata": {
    "application/vnd.databricks.v1+cell": {
     "cellMetadata": {
      "byteLimit": 2048000,
      "rowLimit": 10000
     },
     "inputWidgets": {},
     "nuid": "c1422486-d256-4b58-bd39-9ad77e9d46a7",
     "showTitle": false,
     "tableResultSettingsMap": {},
     "title": ""
    }
   },
   "outputs": [],
   "source": [
    "from pyspark.sql.functions import regexp_extract\n",
    "\n",
    "def identify_games_to_update():\n",
    "    games_table = DeltaTable.forPath(spark, DELTA_PATH_GAMES)\n",
    "    games_df = games_table.toDF()\n",
    "\n",
    "    #Filter out rows where status starts with a date (like 2025-04-06T...)\n",
    "    #Use regex to match ISO timestamp pattern\n",
    "    games_filtered = games_df.filter(\n",
    "        ~regexp_extract(col(\"status\"), r'^202\\d{1}-', 0).contains(\"202\")\n",
    "    )\n",
    "\n",
    "    #games_filtered.select(\"status\").distinct().show(truncate=False)\n",
    "\n",
    "    games_to_update = games_filtered.select(\"game_id\").collect()\n",
    "    return [row[\"game_id\"] for row in games_to_update]\n"
   ]
  },
  {
   "cell_type": "markdown",
   "metadata": {
    "application/vnd.databricks.v1+cell": {
     "cellMetadata": {},
     "inputWidgets": {},
     "nuid": "4c068e4d-378a-4232-86dd-a1ad57537623",
     "showTitle": false,
     "tableResultSettingsMap": {},
     "title": ""
    }
   },
   "source": [
    "**Define function for the full pipeline run that calls all functions**"
   ]
  },
  {
   "cell_type": "code",
   "execution_count": 0,
   "metadata": {
    "application/vnd.databricks.v1+cell": {
     "cellMetadata": {
      "byteLimit": 2048000,
      "rowLimit": 10000
     },
     "inputWidgets": {},
     "nuid": "734243d8-8b2b-411b-bdc6-e084028b1d5a",
     "showTitle": false,
     "tableResultSettingsMap": {},
     "title": ""
    }
   },
   "outputs": [],
   "source": [
    "def run_pipeline(return_metrics=False):\n",
    "    print(f\"Starting NBA stats ingestion at {datetime.now()}\")\n",
    "\n",
    "    initialize_tables()\n",
    "    initialize_rate_limit_tracker()\n",
    "\n",
    "    active_games = get_active_games()\n",
    "    print(f\"Active games: {len(active_games)}\")\n",
    "\n",
    "    update_games_table(active_games)\n",
    "\n",
    "    games_to_update = identify_games_to_update()\n",
    "    print(f\"Games to update: {games_to_update}\")\n",
    "\n",
    "    all_player_stats = []\n",
    "    for game_id in games_to_update:\n",
    "        player_stats = get_player_stats_for_game(game_id)\n",
    "        print(f\"Game ID {game_id} - stats pulled: {len(player_stats)}\")\n",
    "        all_player_stats.extend(player_stats)\n",
    "\n",
    "    update_player_stats_table(all_player_stats)\n",
    "\n",
    "    print(f\"Pipeline run completed at {datetime.now()}\")\n",
    "    print(f\"✅ Updated {len(active_games)} active games and {len(all_player_stats)} player stats\")\n",
    "\n",
    "    if return_metrics:\n",
    "        return len(active_games), len(all_player_stats)\n"
   ]
  },
  {
   "cell_type": "markdown",
   "metadata": {
    "application/vnd.databricks.v1+cell": {
     "cellMetadata": {},
     "inputWidgets": {},
     "nuid": "450ccd42-aef5-4bbd-af2b-2eac66e9bc0c",
     "showTitle": false,
     "tableResultSettingsMap": {},
     "title": ""
    }
   },
   "source": [
    "**Import time module to establish sleep time between runs and define function that runs pipeline on a loop**"
   ]
  },
  {
   "cell_type": "code",
   "execution_count": 0,
   "metadata": {
    "application/vnd.databricks.v1+cell": {
     "cellMetadata": {
      "byteLimit": 2048000,
      "rowLimit": 10000
     },
     "inputWidgets": {},
     "nuid": "da7fc3fc-0cc9-4cff-b42f-2ce21b213a25",
     "showTitle": false,
     "tableResultSettingsMap": {},
     "title": ""
    }
   },
   "outputs": [],
   "source": [
    "import time\n",
    "\n",
    "def start_pipeline_loop():\n",
    "    print(\"Starting NBA live pipeline loop...\\n\")\n",
    "    loop_count = 1\n",
    "\n",
    "    while True:\n",
    "        try:\n",
    "            print(f\"🔁 Loop {loop_count} | ⏰ {datetime.now()}\")\n",
    "            \n",
    "            # Run pipeline and capture metrics\n",
    "            active_games, player_stats = run_pipeline(return_metrics=True)\n",
    "\n",
    "            print(f\"🏀 Active Games Updated: {active_games}\")\n",
    "            print(f\"👤 Player Stats Pulled: {player_stats}\")\n",
    "        \n",
    "        except Exception as e:\n",
    "            print(f\"❌ Pipeline error: {e}\")\n",
    "\n",
    "        print(f\"⏳ Sleeping for {REQUEST_INTERVAL:.2f} seconds...\\n\")\n",
    "        time.sleep(REQUEST_INTERVAL)\n",
    "        loop_count += 1\n"
   ]
  },
  {
   "cell_type": "markdown",
   "metadata": {
    "application/vnd.databricks.v1+cell": {
     "cellMetadata": {},
     "inputWidgets": {},
     "nuid": "7fcbf140-e149-4aa8-80a9-2ed9c045c9cc",
     "showTitle": false,
     "tableResultSettingsMap": {},
     "title": ""
    }
   },
   "source": [
    "**Start continuous pipeline loop using the request interval**"
   ]
  },
  {
   "cell_type": "code",
   "execution_count": 0,
   "metadata": {
    "application/vnd.databricks.v1+cell": {
     "cellMetadata": {
      "byteLimit": 2048000,
      "rowLimit": 10000
     },
     "inputWidgets": {},
     "nuid": "4a1fcdfb-29cc-42fc-b0eb-2ce0073f9823",
     "showTitle": false,
     "tableResultSettingsMap": {},
     "title": ""
    }
   },
   "outputs": [
    {
     "output_type": "stream",
     "name": "stdout",
     "output_type": "stream",
     "text": [
      "Starting NBA live pipeline loop...\n\n🔁 Loop 1 | ⏰ 2025-04-07 01:10:23.533849\nStarting NBA stats ingestion at 2025-04-07 01:10:23.533868\nURL: https://api.balldontlie.io/v1/games\nHeaders: {'Authorization': 'ee430f69-200b-4513-9fbd-30e5d2bc4dd4'}\nParams: {'dates[]': '2025-04-07', 'per_page': 100}\nActive games: 0\nGames to update: [15908867, 15908865, 15908869, 15908866, 15908871, 15908868, 15908870]\nURL: https://api.balldontlie.io/v1/stats\nHeaders: {'Authorization': 'ee430f69-200b-4513-9fbd-30e5d2bc4dd4'}\nParams: {'game_ids[]': 15908867, 'per_page': 100}\nGame ID 15908867 - stats pulled: 36\nURL: https://api.balldontlie.io/v1/stats\nHeaders: {'Authorization': 'ee430f69-200b-4513-9fbd-30e5d2bc4dd4'}\nParams: {'game_ids[]': 15908865, 'per_page': 100}\nGame ID 15908865 - stats pulled: 36\nURL: https://api.balldontlie.io/v1/stats\nHeaders: {'Authorization': 'ee430f69-200b-4513-9fbd-30e5d2bc4dd4'}\nParams: {'game_ids[]': 15908869, 'per_page': 100}\nGame ID 15908869 - stats pulled: 34\nURL: https://api.balldontlie.io/v1/stats\nHeaders: {'Authorization': 'ee430f69-200b-4513-9fbd-30e5d2bc4dd4'}\nParams: {'game_ids[]': 15908866, 'per_page': 100}\nGame ID 15908866 - stats pulled: 35\nURL: https://api.balldontlie.io/v1/stats\nHeaders: {'Authorization': 'ee430f69-200b-4513-9fbd-30e5d2bc4dd4'}\nParams: {'game_ids[]': 15908871, 'per_page': 100}\nGame ID 15908871 - stats pulled: 36\nURL: https://api.balldontlie.io/v1/stats\nHeaders: {'Authorization': 'ee430f69-200b-4513-9fbd-30e5d2bc4dd4'}\nParams: {'game_ids[]': 15908868, 'per_page': 100}\nGame ID 15908868 - stats pulled: 35\nURL: https://api.balldontlie.io/v1/stats\nHeaders: {'Authorization': 'ee430f69-200b-4513-9fbd-30e5d2bc4dd4'}\nParams: {'game_ids[]': 15908870, 'per_page': 100}\nGame ID 15908870 - stats pulled: 36\nPipeline run completed at 2025-04-07 01:22:44.853219\n✅ Updated 0 active games and 248 player stats\n🏀 Active Games Updated: 0\n👤 Player Stats Pulled: 248\n⏳ Sleeping for 72.00 seconds...\n\n🔁 Loop 2 | ⏰ 2025-04-07 01:23:56.925468\nStarting NBA stats ingestion at 2025-04-07 01:23:56.925585\nURL: https://api.balldontlie.io/v1/games\nHeaders: {'Authorization': 'ee430f69-200b-4513-9fbd-30e5d2bc4dd4'}\nParams: {'dates[]': '2025-04-07', 'per_page': 100}\nActive games: 0\nGames to update: [15908867, 15908865, 15908869, 15908866, 15908871, 15908868, 15908870]\nURL: https://api.balldontlie.io/v1/stats\nHeaders: {'Authorization': 'ee430f69-200b-4513-9fbd-30e5d2bc4dd4'}\nParams: {'game_ids[]': 15908867, 'per_page': 100}\nGame ID 15908867 - stats pulled: 36\nURL: https://api.balldontlie.io/v1/stats\nHeaders: {'Authorization': 'ee430f69-200b-4513-9fbd-30e5d2bc4dd4'}\nParams: {'game_ids[]': 15908865, 'per_page': 100}\nGame ID 15908865 - stats pulled: 36\nURL: https://api.balldontlie.io/v1/stats\nHeaders: {'Authorization': 'ee430f69-200b-4513-9fbd-30e5d2bc4dd4'}\nParams: {'game_ids[]': 15908869, 'per_page': 100}\nGame ID 15908869 - stats pulled: 34\nURL: https://api.balldontlie.io/v1/stats\nHeaders: {'Authorization': 'ee430f69-200b-4513-9fbd-30e5d2bc4dd4'}\nParams: {'game_ids[]': 15908866, 'per_page': 100}\nGame ID 15908866 - stats pulled: 35\nURL: https://api.balldontlie.io/v1/stats\nHeaders: {'Authorization': 'ee430f69-200b-4513-9fbd-30e5d2bc4dd4'}\nParams: {'game_ids[]': 15908871, 'per_page': 100}\nGame ID 15908871 - stats pulled: 36\nURL: https://api.balldontlie.io/v1/stats\nHeaders: {'Authorization': 'ee430f69-200b-4513-9fbd-30e5d2bc4dd4'}\nParams: {'game_ids[]': 15908868, 'per_page': 100}\nGame ID 15908868 - stats pulled: 35\nURL: https://api.balldontlie.io/v1/stats\nHeaders: {'Authorization': 'ee430f69-200b-4513-9fbd-30e5d2bc4dd4'}\nParams: {'game_ids[]': 15908870, 'per_page': 100}\nGame ID 15908870 - stats pulled: 36\nPipeline run completed at 2025-04-07 01:34:57.727394\n✅ Updated 0 active games and 248 player stats\n🏀 Active Games Updated: 0\n👤 Player Stats Pulled: 248\n⏳ Sleeping for 72.00 seconds...\n\n🔁 Loop 3 | ⏰ 2025-04-07 01:36:09.800108\nStarting NBA stats ingestion at 2025-04-07 01:36:09.800237\nURL: https://api.balldontlie.io/v1/games\nHeaders: {'Authorization': 'ee430f69-200b-4513-9fbd-30e5d2bc4dd4'}\nParams: {'dates[]': '2025-04-07', 'per_page': 100}\nActive games: 0\nGames to update: [15908867, 15908865, 15908869, 15908866, 15908871, 15908868, 15908870]\nURL: https://api.balldontlie.io/v1/stats\nHeaders: {'Authorization': 'ee430f69-200b-4513-9fbd-30e5d2bc4dd4'}\nParams: {'game_ids[]': 15908867, 'per_page': 100}\nGame ID 15908867 - stats pulled: 36\nURL: https://api.balldontlie.io/v1/stats\nHeaders: {'Authorization': 'ee430f69-200b-4513-9fbd-30e5d2bc4dd4'}\nParams: {'game_ids[]': 15908865, 'per_page': 100}\nGame ID 15908865 - stats pulled: 36\nURL: https://api.balldontlie.io/v1/stats\nHeaders: {'Authorization': 'ee430f69-200b-4513-9fbd-30e5d2bc4dd4'}\nParams: {'game_ids[]': 15908869, 'per_page': 100}\nGame ID 15908869 - stats pulled: 34\nURL: https://api.balldontlie.io/v1/stats\nHeaders: {'Authorization': 'ee430f69-200b-4513-9fbd-30e5d2bc4dd4'}\nParams: {'game_ids[]': 15908866, 'per_page': 100}\nGame ID 15908866 - stats pulled: 35\nURL: https://api.balldontlie.io/v1/stats\nHeaders: {'Authorization': 'ee430f69-200b-4513-9fbd-30e5d2bc4dd4'}\nParams: {'game_ids[]': 15908871, 'per_page': 100}\nGame ID 15908871 - stats pulled: 36\nURL: https://api.balldontlie.io/v1/stats\nHeaders: {'Authorization': 'ee430f69-200b-4513-9fbd-30e5d2bc4dd4'}\nParams: {'game_ids[]': 15908868, 'per_page': 100}\nGame ID 15908868 - stats pulled: 35\nURL: https://api.balldontlie.io/v1/stats\nHeaders: {'Authorization': 'ee430f69-200b-4513-9fbd-30e5d2bc4dd4'}\nParams: {'game_ids[]': 15908870, 'per_page': 100}\nGame ID 15908870 - stats pulled: 36\nPipeline run completed at 2025-04-07 01:46:59.340193\n✅ Updated 0 active games and 248 player stats\n🏀 Active Games Updated: 0\n👤 Player Stats Pulled: 248\n⏳ Sleeping for 72.00 seconds...\n\n🔁 Loop 4 | ⏰ 2025-04-07 01:48:11.412178\nStarting NBA stats ingestion at 2025-04-07 01:48:11.412294\nURL: https://api.balldontlie.io/v1/games\nHeaders: {'Authorization': 'ee430f69-200b-4513-9fbd-30e5d2bc4dd4'}\nParams: {'dates[]': '2025-04-07', 'per_page': 100}\nActive games: 0\nGames to update: [15908867, 15908865, 15908869, 15908866, 15908871, 15908868, 15908870]\nURL: https://api.balldontlie.io/v1/stats\nHeaders: {'Authorization': 'ee430f69-200b-4513-9fbd-30e5d2bc4dd4'}\nParams: {'game_ids[]': 15908867, 'per_page': 100}\nGame ID 15908867 - stats pulled: 36\nURL: https://api.balldontlie.io/v1/stats\nHeaders: {'Authorization': 'ee430f69-200b-4513-9fbd-30e5d2bc4dd4'}\nParams: {'game_ids[]': 15908865, 'per_page': 100}\nGame ID 15908865 - stats pulled: 36\nURL: https://api.balldontlie.io/v1/stats\nHeaders: {'Authorization': 'ee430f69-200b-4513-9fbd-30e5d2bc4dd4'}\nParams: {'game_ids[]': 15908869, 'per_page': 100}\nGame ID 15908869 - stats pulled: 34\nURL: https://api.balldontlie.io/v1/stats\nHeaders: {'Authorization': 'ee430f69-200b-4513-9fbd-30e5d2bc4dd4'}\nParams: {'game_ids[]': 15908866, 'per_page': 100}\nGame ID 15908866 - stats pulled: 35\nURL: https://api.balldontlie.io/v1/stats\nHeaders: {'Authorization': 'ee430f69-200b-4513-9fbd-30e5d2bc4dd4'}\nParams: {'game_ids[]': 15908871, 'per_page': 100}\nGame ID 15908871 - stats pulled: 36\nURL: https://api.balldontlie.io/v1/stats\nHeaders: {'Authorization': 'ee430f69-200b-4513-9fbd-30e5d2bc4dd4'}\nParams: {'game_ids[]': 15908868, 'per_page': 100}\nGame ID 15908868 - stats pulled: 35\nURL: https://api.balldontlie.io/v1/stats\nHeaders: {'Authorization': 'ee430f69-200b-4513-9fbd-30e5d2bc4dd4'}\nParams: {'game_ids[]': 15908870, 'per_page': 100}\nGame ID 15908870 - stats pulled: 36\nPipeline run completed at 2025-04-07 01:58:58.157508\n✅ Updated 0 active games and 248 player stats\n🏀 Active Games Updated: 0\n👤 Player Stats Pulled: 248\n⏳ Sleeping for 72.00 seconds...\n\n🔁 Loop 5 | ⏰ 2025-04-07 02:00:10.229946\nStarting NBA stats ingestion at 2025-04-07 02:00:10.230058\nURL: https://api.balldontlie.io/v1/games\nHeaders: {'Authorization': 'ee430f69-200b-4513-9fbd-30e5d2bc4dd4'}\nParams: {'dates[]': '2025-04-07', 'per_page': 100}\nActive games: 0\nGames to update: [15908867, 15908865, 15908869, 15908866, 15908871, 15908868, 15908870]\nURL: https://api.balldontlie.io/v1/stats\nHeaders: {'Authorization': 'ee430f69-200b-4513-9fbd-30e5d2bc4dd4'}\nParams: {'game_ids[]': 15908867, 'per_page': 100}\nGame ID 15908867 - stats pulled: 36\nURL: https://api.balldontlie.io/v1/stats\nHeaders: {'Authorization': 'ee430f69-200b-4513-9fbd-30e5d2bc4dd4'}\nParams: {'game_ids[]': 15908865, 'per_page': 100}\nGame ID 15908865 - stats pulled: 36\nURL: https://api.balldontlie.io/v1/stats\nHeaders: {'Authorization': 'ee430f69-200b-4513-9fbd-30e5d2bc4dd4'}\nParams: {'game_ids[]': 15908869, 'per_page': 100}\nGame ID 15908869 - stats pulled: 34\nURL: https://api.balldontlie.io/v1/stats\nHeaders: {'Authorization': 'ee430f69-200b-4513-9fbd-30e5d2bc4dd4'}\nParams: {'game_ids[]': 15908866, 'per_page': 100}\nGame ID 15908866 - stats pulled: 35\nURL: https://api.balldontlie.io/v1/stats\nHeaders: {'Authorization': 'ee430f69-200b-4513-9fbd-30e5d2bc4dd4'}\nParams: {'game_ids[]': 15908871, 'per_page': 100}\nGame ID 15908871 - stats pulled: 36\nURL: https://api.balldontlie.io/v1/stats\nHeaders: {'Authorization': 'ee430f69-200b-4513-9fbd-30e5d2bc4dd4'}\nParams: {'game_ids[]': 15908868, 'per_page': 100}\nGame ID 15908868 - stats pulled: 35\nURL: https://api.balldontlie.io/v1/stats\nHeaders: {'Authorization': 'ee430f69-200b-4513-9fbd-30e5d2bc4dd4'}\nParams: {'game_ids[]': 15908870, 'per_page': 100}\nGame ID 15908870 - stats pulled: 36\nPipeline run completed at 2025-04-07 02:11:01.393467\n✅ Updated 0 active games and 248 player stats\n🏀 Active Games Updated: 0\n👤 Player Stats Pulled: 248\n⏳ Sleeping for 72.00 seconds...\n\n🔁 Loop 6 | ⏰ 2025-04-07 02:12:13.465839\nStarting NBA stats ingestion at 2025-04-07 02:12:13.465976\nURL: https://api.balldontlie.io/v1/games\nHeaders: {'Authorization': 'ee430f69-200b-4513-9fbd-30e5d2bc4dd4'}\nParams: {'dates[]': '2025-04-07', 'per_page': 100}\nActive games: 0\nGames to update: [15908867, 15908865, 15908869, 15908866, 15908871, 15908868, 15908870]\nURL: https://api.balldontlie.io/v1/stats\nHeaders: {'Authorization': 'ee430f69-200b-4513-9fbd-30e5d2bc4dd4'}\nParams: {'game_ids[]': 15908867, 'per_page': 100}\n"
     ]
    }
   ],
   "source": [
    "start_pipeline_loop()"
   ]
  }
 ],
 "metadata": {
  "application/vnd.databricks.v1+notebook": {
   "computePreferences": null,
   "dashboards": [],
   "environmentMetadata": {
    "base_environment": "",
    "environment_version": "1"
   },
   "inputWidgetPreferences": null,
   "language": "python",
   "notebookMetadata": {
    "pythonIndentUnit": 4
   },
   "notebookName": "NBA Stats Ingestion",
   "widgets": {}
  }
 },
 "nbformat": 4,
 "nbformat_minor": 0
}